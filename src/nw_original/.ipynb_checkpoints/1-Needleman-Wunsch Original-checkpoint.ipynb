{
 "cells": [
  {
   "cell_type": "code",
   "execution_count": 1,
   "id": "d1e80876",
   "metadata": {},
   "outputs": [],
   "source": [
    "import numpy as np\n",
    "\n",
    "import os\n",
    "import sys\n",
    "module_path = os.path.abspath(os.path.join('..'))\n",
    "if module_path not in sys.path:\n",
    "    sys.path.append(module_path)"
   ]
  },
  {
   "cell_type": "markdown",
   "id": "95f691f4",
   "metadata": {},
   "source": [
    "# Needleman-Wunsch original\n",
    "\n",
    "O algoritmo Needleman-Wunsch é um método utilizado para o alinhamento de sequências, frequentemente aplicado na bioinformática para alinhar sequências de proteínas ou nucleotídeos (DNA ou RNA). Ele foi desenvolvido por Saul Needleman e Christian Wunsch em 1970 como uma técnica para encontrar o melhor alinhamento global entre duas sequências, maximizando a pontuação de similaridade entre elas.  "
   ]
  },
  {
   "cell_type": "markdown",
   "id": "1c281695",
   "metadata": {},
   "source": [
    "## Hiperparâmetros\n",
    "\n",
    "Antes de darmos a sua implementação, precisamos definir alguns hiperparâmetros para sua execução:\n",
    "\n",
    "### Matriz de pontuação\n",
    "\n",
    "Dependendo do problema (alinhamento de aminoácidos, proteínas, sequências abstratas, etc), o algoritmo precisa de uma matriz que defina a **pontuação** recebida ao fazer o alinhamento entre dois elementos, sejam eles idênticos (*match*) ou não (*mismatch*). Nos exemplos que iremos estudar a seguir, desejamos fazer o alinhamento entre proteínas, compostas por sequências de aminoácidos e, na literatura, vários autores já propuzeram diversas matrizes de pontuação, chamadas de ***BLOSUM*** (**BLO**cks of Amino Acid **SU**bstitution **M**atrix) e a principal versão que usaremos nesse projeto será a BLOSUM62, definida a seguir.\n",
    "\n",
    "![BLOSUM62](BLOSUM62.png \"Tabela BLOSUM62\")\n",
    "\n",
    "Vale ressaltar que essa matriz é simétrica e contém valores negativos.\n",
    "\n",
    "### Penalidade *indel*\n",
    "\n",
    "Um conceito essencial para o algoritmo é o *indel*: em um alinhamento entre duas sequências, podemos incluir ***indels*** que representam *gaps* ou intervalos de **in**serção/**del**eção nas *strings*, ou seja, em vez de \"casar\" um elemento com outro de cada sequência, insere-se um \"espaço em branco\" em uma sequência e faz o *match* com um elemento da outra sequência. Assim como para o *match* de elementos, essa operação tem um custo fixo pré-definido. Para padronizar os testes que realizaremos a seguir, definimos o valor desse parâmetro como **0**.\n",
    "\n",
    "[[1]](https://pt.wikipedia.org/wiki/BLOSUM)"
   ]
  },
  {
   "cell_type": "code",
   "execution_count": 2,
   "id": "5c2d5678",
   "metadata": {},
   "outputs": [
    {
     "name": "stdout",
     "output_type": "stream",
     "text": [
      "Matriz BLOSUM62:\n",
      "[[ 4 -1 -2 -2  0 -1 -1  0 -2 -1 -1 -1 -1 -2 -1  1  0 -3 -2  0]\n",
      " [-1  5  0 -2 -3  1  0 -2  0 -3 -2  2 -1 -3 -2 -1 -1 -3 -2 -3]\n",
      " [-2  0  6  1 -3  0  0  0  1 -3 -3  0 -2 -3 -2  1  0 -4 -2 -3]\n",
      " [-2 -2  1  6 -3  0  2 -1 -1 -3 -4 -1 -3 -3 -1  0 -1 -4 -3 -3]\n",
      " [ 0 -3 -3 -3  9 -3 -4 -3 -3 -1 -1 -3 -1 -2 -3 -1 -1 -2 -2 -1]\n",
      " [-1  1  0  0 -3  5  2 -2  0 -3 -2  1  0 -3 -1  0 -1 -2 -1 -2]\n",
      " [-1  0  0  2 -4  2  5 -2  0 -3 -3  1 -2 -3 -1  0 -1 -3 -2 -2]\n",
      " [ 0 -2  0 -1 -3 -2 -2  6 -2 -4 -4 -2 -3 -3 -2  0 -2 -2 -3 -3]\n",
      " [-2  0  1 -1 -3  0  0 -2  8 -3 -3 -1 -2 -1 -2 -1 -2 -2  2 -3]\n",
      " [-1 -3 -3 -3 -1 -3 -3 -4 -3  4  2 -3  1  0 -3 -2 -1 -3 -1  3]\n",
      " [-1 -2 -3 -4 -1 -2 -3 -4 -3  2  4 -2  2  0 -3 -2 -1 -2 -1  1]\n",
      " [-1  2  0 -1 -3  1  1 -2 -1 -3 -2  5 -1 -3 -1  0 -1 -3 -2 -2]\n",
      " [-1 -1 -2 -3 -1  0 -2 -3 -2  1  2 -1  5  0 -2 -1 -1 -1 -1  1]\n",
      " [-2 -3 -3 -3 -2 -3 -3 -3 -1  0  0 -3  0  6 -4 -2 -2  1  3 -1]\n",
      " [-1 -2 -2 -1 -3 -1 -1 -2 -2 -3 -3 -1 -2 -4  7 -1 -1 -4 -3 -2]\n",
      " [ 1 -1  1  0 -1  0  0  0 -1 -2 -2  0 -1 -2 -1  4  1 -3 -2 -2]\n",
      " [ 0 -1  0 -1 -1 -1 -1 -2 -2 -1 -1 -1 -1 -2 -1  1  5 -2 -2  0]\n",
      " [-3 -3 -4 -4 -2 -2 -3 -2 -2 -3 -2 -3 -1  1 -4 -3 -2 11  2 -3]\n",
      " [-2 -2 -2 -3 -2 -1 -2 -3  2 -1 -1 -2 -1  3 -3 -2 -2  2  7 -1]\n",
      " [ 0 -3 -3 -3 -1 -2 -2 -3 -3  3  1 -2  1 -1 -2 -2  0 -3 -1  4]]\n",
      "\n",
      "Dicionário auxiliar:\n",
      "{'A': 0, 'R': 1, 'N': 2, 'D': 3, 'C': 4, 'Q': 5, 'E': 6, 'G': 7, 'H': 8, 'I': 9, 'L': 10, 'K': 11, 'M': 12, 'F': 13, 'P': 14, 'S': 15, 'T': 16, 'W': 17, 'Y': 18, 'V': 19}\n",
      "\n",
      "Penalidade indel: 0\n"
     ]
    }
   ],
   "source": [
    "import utils.constantes as constantes\n",
    "\n",
    "print(\"Matriz BLOSUM62:\")\n",
    "print(constantes.matriz_pontuacao_blosum62)\n",
    "\n",
    "print(\"\\nDicionário auxiliar:\")\n",
    "print(constantes.dicionario_indice_alfabeto_all_amino)\n",
    "\n",
    "print(\"\\nPenalidade indel:\", constantes.PENALIDADE_INDEL)"
   ]
  },
  {
   "cell_type": "markdown",
   "id": "9d6014a8",
   "metadata": {},
   "source": [
    "## Implementação Recursiva\n",
    "\n",
    "O algoritmo Needleman-Wunsch aplica o paradigma da Programação Dinâmica para encontrar o alinhamento global ótimo entre duas sequências. Usualmente, um sequência é representada como uma *string* e cada caractere é um elemento que pode ser casado com outro elemento ou com um *gap* na outra sequência, assumindo um valor de penalidade ou ganho pré-definido. A estratégia do algoritmo é subdividir o problema original em sub-problemas e resolvê-los individualmente e recursivamente, agregando seus resultados para compor a solução final do alinhamento. Os subproblemas não são mutuamente exclusivos e podem se sobrepor, logo, podemos armazenar seus resultados em uma matriz de memoização e reutilizá-los quando necessário.  \n",
    "\n",
    "Formalmente, o objetivo do algoritmo é encontrar o alinhamento que maximiza a somatória total dos custos/ganhos de *match*, portanto, podemos definir a seguintes regras de implementação: dadas duas strings $v$ e $w$, seus tamanhos são $|v|$ e $|w|$ e podemos acessar seus elementos com $v[i] ~ (0 \\leq i \\lt |v|)$ e $w[j] ~ (0 \\leq j \\lt |w|)$. A operação `v[:-1]` retorna a *string* v sem o seu último caractere, sendo que se v tiver apenas um elemento, a regra retorna a string vazia.  Seja `pontuacao[v[i], w[j]]` o ganho ou custo de se fazer o casamento entre o i-ésimo elemento de v e o j-ésimo elemento de w (*match* quando são iguais e *mismatch* quando são diferentes), e seja `PENALIDADE_INDEL` um valor constante que representa o custo ou penalidade de se realizar um *indel*, conforme definido acima. Podemos, portanto, definir a **relação de recorrência**:\n",
    "\n",
    "$$\n",
    "nw\\_rec(a, b) =\\begin{equation}\n",
    "\\left\\{\n",
    "  \\begin{aligned}\n",
    "    ~0~se~a~=~\"\" e~b =~\"\"\\\\\n",
    "    ~PENALIDADE\\_INDEL+nw\\_rec(a, b[:-1])~se~a~=~\"\" e~b \\neq~\"\"\\\\\n",
    "    ~PENALIDADE\\_INDEL+nw\\_rec(a[:-1], b)~se~a \\neq~\"\" e~b~=~\"\"\\\\\n",
    "    ~se~a \\neq~\"\" e~b\\neq~\"\": max\n",
    "        \\left\\{\n",
    "          \\begin{aligned}\n",
    "            pontuacao[a[|a|-1], b[|b|-1]] + nw\\_rec(a[:-1], b[:-1])\\\\\n",
    "            ~PENALIDADE\\_INDEL + nw\\_rec(a[:-1], b)\\\\\n",
    "            ~PENALIDADE\\_INDEL + nw\\_rec(a, b[:-1])\n",
    "          \\end{aligned}\n",
    "        \\right.\n",
    "  \\end{aligned}\n",
    "  \\right.\n",
    "\\end{equation}\n",
    "$$\n",
    "\n",
    "Por fim, basta resolver o problema para $v$ e $w$ ao chamar esse algoritmo recursivo como `nw_rec(v, w)`."
   ]
  },
  {
   "cell_type": "code",
   "execution_count": 3,
   "id": "34c79918",
   "metadata": {},
   "outputs": [],
   "source": [
    "class NeedlemanWunschRecursivo:\n",
    "    \"\"\"\n",
    "    Classe que implementa o algoritmo Needleman-Wunsch Recursivo\n",
    "    \"\"\"\n",
    "\n",
    "    def __init__(self, matriz_pontuacao, dicionario_indice_alfabeto, penalidade_indel):\n",
    "        \"\"\"Construtor da classe que implementa o Needleman-Wunsch Recursivo\n",
    "        \n",
    "        matriz_pontuacao: A matriz que armazena os custos/ganhos de se fazer o casamento\n",
    "        (seja ele um match ou um mismatch) entre cada um dos caracteres do alfabetos que\n",
    "        formam os elementos das sequências sob análise. Deve ser uma matriz numérica\n",
    "        simétrica k * k, onde k é o número de caracteres no alfabeto.\n",
    "        \n",
    "        dicionario_indice_alfabeto: Um dicionário auxiliar que mapeia o caractere textual\n",
    "        à sua posição/índice na matriz de potuação\n",
    "        \n",
    "        penalidade_indel: O valor da penalidade de se fazer um indel ou um casamento com\n",
    "        um gap durante a execução algoritmo. Deve ser um valor MAIOR ou IGUAL a zero.\n",
    "        \n",
    "        \"\"\"\n",
    "        self.matriz_pontuacao = matriz_pontuacao\n",
    "        self.dicionario_indice_alfabeto = dicionario_indice_alfabeto\n",
    "        self.penalidade_indel = penalidade_indel\n",
    "        self.matriz_memoizacao = None\n",
    "    \n",
    "    def nw_rec(self, a, b):\n",
    "        \"\"\"\n",
    "        Parte recursiva do Algoritmo Needleman-Wunsch para construir o alinhamento global\n",
    "        par-a-par de sequências. Esse método assume que alguns valores da classe foram\n",
    "        inicializados corretamente, logo, NÃO CHAME ESSE MÉTODO DIRETAMENTE. Em vez disso,\n",
    "        chame self.needleman_wunsch_recursivo\n",
    "        \"\"\"\n",
    "        \n",
    "        len_a = len(a)\n",
    "        len_b = len(b)\n",
    "\n",
    "        if not np.isnan(self.matriz_memoizacao[len_a, len_b]): # Se esse elemento já foi processado, apenas retorne\n",
    "            return self.matriz_memoizacao[len_a, len_b]\n",
    "        \n",
    "        if a == \"\" and b == \"\": # Se as duas sequências são vazias: Passo base\n",
    "            self.matriz_memoizacao[len_a, len_b] = 0\n",
    "        elif a == \"\": # Se a é vazia\n",
    "            self.matriz_memoizacao[len_a, len_b] = self.nw_rec(a, b[:-1]) - self.penalidade_indel\n",
    "        elif b == \"\": # Se b é vazia\n",
    "            self.matriz_memoizacao[len_a, len_b] = self.nw_rec(a[:-1], b) - self.penalidade_indel\n",
    "        else: # Se ambas as sequências NÃO são vazias\n",
    "            self.matriz_memoizacao[len_a, len_b] = max(\n",
    "                self.matriz_pontuacao[self.dicionario_indice_alfabeto[a[len_a-1]], self.dicionario_indice_alfabeto[b[len_b-1]]] + self.nw_rec(a[:-1], b[:-1]),\n",
    "                self.nw_rec(a[:-1], b) - self.penalidade_indel,\n",
    "                self.nw_rec(a, b[:-1]) - self.penalidade_indel\n",
    "            )\n",
    "\n",
    "        return self.matriz_memoizacao[len_a, len_b]\n",
    "\n",
    "    def needleman_wunsch_recursivo(self, v, w):\n",
    "        \"\"\"\n",
    "        Método principal da classe NeedlemanWunschRecursivo que implementa e executa\n",
    "        o Algoritmo Needleman-Wunsch para construir o alinhamento global par-a-par\n",
    "        de sequências.\n",
    "        \"\"\"\n",
    "        len_v = len(v)\n",
    "        len_w = len(w)\n",
    "\n",
    "        self.matriz_memoizacao = np.ones((len_v+1, len_w+1)) * np.nan\n",
    "\n",
    "        return self.nw_rec(v, w)"
   ]
  },
  {
   "cell_type": "code",
   "execution_count": 4,
   "id": "c8dabcc0",
   "metadata": {},
   "outputs": [],
   "source": [
    "nw_rec = NeedlemanWunschRecursivo(matriz_pontuacao=constantes.matriz_pontuacao_blosum62, \n",
    "                    dicionario_indice_alfabeto=constantes.dicionario_indice_alfabeto_all_amino,\n",
    "                    penalidade_indel=constantes.PENALIDADE_INDEL)"
   ]
  },
  {
   "cell_type": "code",
   "execution_count": 5,
   "id": "8966e007",
   "metadata": {},
   "outputs": [
    {
     "data": {
      "text/plain": [
       "21.0"
      ]
     },
     "execution_count": 5,
     "metadata": {},
     "output_type": "execute_result"
    }
   ],
   "source": [
    "nw_rec.needleman_wunsch_recursivo(v=\"DRET\", w=\"DRET\")"
   ]
  },
  {
   "cell_type": "code",
   "execution_count": 6,
   "id": "fc5d9842",
   "metadata": {},
   "outputs": [
    {
     "data": {
      "text/plain": [
       "18.0"
      ]
     },
     "execution_count": 6,
     "metadata": {},
     "output_type": "execute_result"
    }
   ],
   "source": [
    "nw_rec.needleman_wunsch_recursivo(v=\"DRET\", w=\"DRQT\")"
   ]
  },
  {
   "cell_type": "code",
   "execution_count": 7,
   "id": "bdd3b8bc",
   "metadata": {},
   "outputs": [
    {
     "data": {
      "text/plain": [
       "46.0"
      ]
     },
     "execution_count": 7,
     "metadata": {},
     "output_type": "execute_result"
    }
   ],
   "source": [
    "nw_rec.needleman_wunsch_recursivo(v=\"DRNTAQLLGTDTT\", w=\"DRQTAQAAGTTTIT\")"
   ]
  },
  {
   "cell_type": "code",
   "execution_count": 8,
   "id": "dfd01332",
   "metadata": {},
   "outputs": [
    {
     "data": {
      "text/plain": [
       "46.0"
      ]
     },
     "execution_count": 8,
     "metadata": {},
     "output_type": "execute_result"
    }
   ],
   "source": [
    "nw_rec.needleman_wunsch_recursivo(v=\"DRQTAKAAGTD\", w=\"ERQLAKAAAGTD\")"
   ]
  },
  {
   "cell_type": "markdown",
   "id": "c71ad7f8",
   "metadata": {},
   "source": [
    "## Implementação Iterativa\n",
    "\n",
    "As regras de implementação e a sua relação de recorrência permitem que ele possa ser implementado de forma simples e intuitiva como um algoritmo recursivo, porém, sua implementação é geralmente dada de forma iterativa. Além disso, é comum salvar informações adicionais que permitam definir a sequência de passos que devem ser feitos para gerar o alinhamento final, além do resultado da somatória total. A implementação desse algoritmo em pseudocódigo é dada a seguir."
   ]
  },
  {
   "cell_type": "code",
   "execution_count": 9,
   "id": "47f03e68",
   "metadata": {},
   "outputs": [],
   "source": [
    "def needleman_wunsch_iterativo(\n",
    "    v,\n",
    "    w,\n",
    "    matriz_pontuacao=constantes.matriz_pontuacao_blosum62,\n",
    "    dicionario_indice_alfabeto=constantes.dicionario_indice_alfabeto_all_amino, \n",
    "    penalidade_indel=constantes.PENALIDADE_INDEL):\n",
    "    \"\"\"\n",
    "    Implementação iterativa do Algoritmo Needleman-Wunsch para construir alinhamentos\n",
    "    globais par-a-par entre sequências.\n",
    "    \"\"\"\n",
    "\n",
    "    len_v = len(v)\n",
    "    len_w = len(w)\n",
    "\n",
    "    # A matriz que armazena as regras de posicionamento ou direcionamento do caminho\n",
    "    # 0 = \"north\", 1 = \"west\" e 2 = \"northwest\"\n",
    "    matriz_posicionamento = np.zeros((len_v+1, len_w+1))\n",
    "    matriz_posicionamento[0, :] = np.ones((len_w+1))\n",
    "\n",
    "\n",
    "    # Inicializando a matriz de recorrencia ou memoização\n",
    "    matriz_similaridade = np.zeros((len_v+1, len_w+1))\n",
    "    for i in range(1, len_v+1):\n",
    "        matriz_similaridade[i, 0] = matriz_similaridade[i-1, 0] - penalidade_indel\n",
    "\n",
    "    for j in range(1, len_w+1):\n",
    "        matriz_similaridade[0, j] = matriz_similaridade[0, j-1] - penalidade_indel\n",
    "\n",
    "    for i in range(1, len_v+1):\n",
    "        for j in range(1, len_w+1):\n",
    "\n",
    "            # Inserção em v:\n",
    "            valor_insercao_v = matriz_similaridade[i-1, j] - penalidade_indel\n",
    "\n",
    "            # Inserção em w:\n",
    "            valor_insercao_w = matriz_similaridade[i, j-1] - penalidade_indel\n",
    "\n",
    "            # Casamento (Se vai dar match mesmo ('T' == 'T') ou deu mismatch ('G' != 'T'),\n",
    "            # não importa. Isso está mapeado na matriz de pontuação)\n",
    "            valor_match = matriz_similaridade[i-1, j-1] + matriz_pontuacao[dicionario_indice_alfabeto[v[i-1]], dicionario_indice_alfabeto[w[j-1]]]\n",
    "\n",
    "            # Atualizando o valor na matriz de similaridade\n",
    "            matriz_similaridade[i, j] = max(valor_insercao_v, valor_insercao_w, valor_match)\n",
    "\n",
    "            # Atualizando a operação que deve ser feita no caminhamento\n",
    "            if matriz_similaridade[i, j] == valor_match:\n",
    "                matriz_posicionamento[i, j] = 2\n",
    "            elif matriz_similaridade[i, j] == valor_insercao_w:\n",
    "                matriz_posicionamento[i, j] = 1\n",
    "            elif matriz_similaridade[i, j] == valor_insercao_v:\n",
    "                matriz_posicionamento[i, j] = 0\n",
    "\n",
    "            \"\"\"\n",
    "            Observação IMPORTANTE: A ordem dos if-elif acima INFLUENCIAM no caminhamento final, no sentido de\n",
    "            que alguns caminhos terão prioridade quando houver algum empate nos valores. Por exemplo, para o\n",
    "            exemplo no livro (Jones, Pevzner, p. 173), a configuração acima dá um resultado DIFERENTE (mas eu\n",
    "            acho que é tão bom quanto!), porém, ao trocar a ordem de verificação do valor_insercao_w pelo\n",
    "            valor_insercao_v acima, o resultado se iguala ao exemplo do livro!\n",
    "            \"\"\"\n",
    "\n",
    "    return matriz_posicionamento, matriz_similaridade"
   ]
  },
  {
   "cell_type": "code",
   "execution_count": 10,
   "id": "3f0ef5c1",
   "metadata": {},
   "outputs": [],
   "source": [
    "import utils.func_utils as func_utils\n",
    "\n",
    "def executar_alinhamento_e_printar_valores(v, w):\n",
    "    \n",
    "    print(\"Alinhamento global par-a-par das strings a seguir:\")\n",
    "    print(v)\n",
    "    print(w)\n",
    "    print(\"----------------------\")\n",
    "    \n",
    "    matriz_posicionamento, matriz_similaridade = needleman_wunsch_iterativo(v, w)\n",
    "\n",
    "    print(\"\\nMatriz de posicionamento (equivale ao mapa de posicionamento):\")\n",
    "    print(matriz_posicionamento)\n",
    "\n",
    "    print(\"\\nMapa de Posicionamento\")\n",
    "    print(func_utils.computar_mapa_posicionamento(matriz_posicionamento))\n",
    "    print(\"----------------------\")\n",
    "\n",
    "    print(\"Matriz de similaridade:\")\n",
    "    print(matriz_similaridade)\n",
    "\n",
    "    print(\"\\nMaior Pontuação: \", matriz_similaridade[len(v), len(w)])\n",
    "\n",
    "    alin_v, alin_w = func_utils.computar_alinhamento(v, w, matriz_posicionamento)\n",
    "    print(\"\\nAlinhamento\")\n",
    "    print(alin_v)\n",
    "    print(alin_w)"
   ]
  },
  {
   "cell_type": "code",
   "execution_count": 11,
   "id": "ebb4c6dc",
   "metadata": {},
   "outputs": [
    {
     "name": "stdout",
     "output_type": "stream",
     "text": [
      "Alinhamento global par-a-par das strings a seguir:\n",
      "DRET\n",
      "DRET\n",
      "----------------------\n",
      "\n",
      "Matriz de posicionamento (equivale ao mapa de posicionamento):\n",
      "[[1. 1. 1. 1. 1.]\n",
      " [0. 2. 1. 1. 1.]\n",
      " [0. 0. 2. 1. 1.]\n",
      " [0. 0. 0. 2. 1.]\n",
      " [0. 0. 0. 0. 2.]]\n",
      "\n",
      "Mapa de Posicionamento\n",
      "_ _ _ _ _ \n",
      "| \\ _ _ _ \n",
      "| | \\ _ _ \n",
      "| | | \\ _ \n",
      "| | | | \\ \n",
      "\n",
      "----------------------\n",
      "Matriz de similaridade:\n",
      "[[ 0.  0.  0.  0.  0.]\n",
      " [ 0.  6.  6.  6.  6.]\n",
      " [ 0.  6. 11. 11. 11.]\n",
      " [ 0.  6. 11. 16. 16.]\n",
      " [ 0.  6. 11. 16. 21.]]\n",
      "\n",
      "Maior Pontuação:  21.0\n",
      "\n",
      "Alinhamento\n",
      "DRET\n",
      "DRET\n"
     ]
    }
   ],
   "source": [
    "executar_alinhamento_e_printar_valores(v=\"DRET\", w=\"DRET\")"
   ]
  },
  {
   "cell_type": "code",
   "execution_count": 12,
   "id": "21609561",
   "metadata": {},
   "outputs": [
    {
     "name": "stdout",
     "output_type": "stream",
     "text": [
      "Alinhamento global par-a-par das strings a seguir:\n",
      "DRET\n",
      "DRQT\n",
      "----------------------\n",
      "\n",
      "Matriz de posicionamento (equivale ao mapa de posicionamento):\n",
      "[[1. 1. 1. 1. 1.]\n",
      " [0. 2. 1. 1. 1.]\n",
      " [0. 0. 2. 1. 1.]\n",
      " [0. 0. 0. 2. 1.]\n",
      " [0. 0. 0. 0. 2.]]\n",
      "\n",
      "Mapa de Posicionamento\n",
      "_ _ _ _ _ \n",
      "| \\ _ _ _ \n",
      "| | \\ _ _ \n",
      "| | | \\ _ \n",
      "| | | | \\ \n",
      "\n",
      "----------------------\n",
      "Matriz de similaridade:\n",
      "[[ 0.  0.  0.  0.  0.]\n",
      " [ 0.  6.  6.  6.  6.]\n",
      " [ 0.  6. 11. 11. 11.]\n",
      " [ 0.  6. 11. 13. 13.]\n",
      " [ 0.  6. 11. 13. 18.]]\n",
      "\n",
      "Maior Pontuação:  18.0\n",
      "\n",
      "Alinhamento\n",
      "DRET\n",
      "DRQT\n"
     ]
    }
   ],
   "source": [
    "executar_alinhamento_e_printar_valores(v=\"DRET\", w=\"DRQT\")"
   ]
  },
  {
   "cell_type": "code",
   "execution_count": 13,
   "id": "1c808b7c",
   "metadata": {},
   "outputs": [
    {
     "name": "stdout",
     "output_type": "stream",
     "text": [
      "Alinhamento global par-a-par das strings a seguir:\n",
      "DRNTAQLLGTDTT\n",
      "DRQTAQAAGTTTIT\n",
      "----------------------\n",
      "\n",
      "Matriz de posicionamento (equivale ao mapa de posicionamento):\n",
      "[[1. 1. 1. 1. 1. 1. 1. 1. 1. 1. 1. 1. 1. 1. 1.]\n",
      " [0. 2. 1. 1. 1. 1. 1. 1. 1. 1. 1. 1. 1. 1. 1.]\n",
      " [0. 0. 2. 1. 1. 1. 1. 1. 1. 1. 1. 1. 1. 1. 1.]\n",
      " [0. 0. 0. 2. 2. 1. 2. 1. 1. 2. 2. 2. 2. 1. 2.]\n",
      " [0. 0. 0. 1. 2. 1. 1. 1. 1. 1. 2. 2. 2. 1. 2.]\n",
      " [0. 0. 0. 1. 0. 2. 1. 2. 2. 1. 1. 1. 1. 1. 1.]\n",
      " [0. 0. 0. 2. 1. 0. 2. 1. 1. 1. 1. 1. 1. 1. 1.]\n",
      " [0. 0. 0. 0. 1. 0. 0. 1. 1. 1. 1. 1. 1. 2. 1.]\n",
      " [0. 0. 0. 0. 1. 0. 0. 1. 1. 1. 1. 1. 1. 2. 1.]\n",
      " [0. 0. 0. 0. 1. 0. 0. 2. 2. 2. 1. 1. 1. 1. 1.]\n",
      " [0. 0. 0. 0. 2. 1. 0. 2. 2. 0. 2. 2. 2. 1. 2.]\n",
      " [0. 2. 0. 0. 0. 1. 0. 1. 1. 0. 0. 1. 1. 1. 1.]\n",
      " [0. 0. 0. 0. 2. 2. 0. 2. 2. 0. 2. 2. 2. 1. 2.]\n",
      " [0. 0. 0. 0. 2. 2. 0. 2. 2. 0. 2. 2. 2. 1. 2.]]\n",
      "\n",
      "Mapa de Posicionamento\n",
      "_ _ _ _ _ _ _ _ _ _ _ _ _ _ _ \n",
      "| \\ _ _ _ _ _ _ _ _ _ _ _ _ _ \n",
      "| | \\ _ _ _ _ _ _ _ _ _ _ _ _ \n",
      "| | | \\ \\ _ \\ _ _ \\ \\ \\ \\ _ \\ \n",
      "| | | _ \\ _ _ _ _ _ \\ \\ \\ _ \\ \n",
      "| | | _ | \\ _ \\ \\ _ _ _ _ _ _ \n",
      "| | | \\ _ | \\ _ _ _ _ _ _ _ _ \n",
      "| | | | _ | | _ _ _ _ _ _ \\ _ \n",
      "| | | | _ | | _ _ _ _ _ _ \\ _ \n",
      "| | | | _ | | \\ \\ \\ _ _ _ _ _ \n",
      "| | | | \\ _ | \\ \\ | \\ \\ \\ _ \\ \n",
      "| \\ | | | _ | _ _ | | _ _ _ _ \n",
      "| | | | \\ \\ | \\ \\ | \\ \\ \\ _ \\ \n",
      "| | | | \\ \\ | \\ \\ | \\ \\ \\ _ \\ \n",
      "\n",
      "----------------------\n",
      "Matriz de similaridade:\n",
      "[[ 0.  0.  0.  0.  0.  0.  0.  0.  0.  0.  0.  0.  0.  0.  0.]\n",
      " [ 0.  6.  6.  6.  6.  6.  6.  6.  6.  6.  6.  6.  6.  6.  6.]\n",
      " [ 0.  6. 11. 11. 11. 11. 11. 11. 11. 11. 11. 11. 11. 11. 11.]\n",
      " [ 0.  6. 11. 11. 11. 11. 11. 11. 11. 11. 11. 11. 11. 11. 11.]\n",
      " [ 0.  6. 11. 11. 16. 16. 16. 16. 16. 16. 16. 16. 16. 16. 16.]\n",
      " [ 0.  6. 11. 11. 16. 20. 20. 20. 20. 20. 20. 20. 20. 20. 20.]\n",
      " [ 0.  6. 11. 16. 16. 20. 25. 25. 25. 25. 25. 25. 25. 25. 25.]\n",
      " [ 0.  6. 11. 16. 16. 20. 25. 25. 25. 25. 25. 25. 25. 27. 27.]\n",
      " [ 0.  6. 11. 16. 16. 20. 25. 25. 25. 25. 25. 25. 25. 27. 27.]\n",
      " [ 0.  6. 11. 16. 16. 20. 25. 25. 25. 31. 31. 31. 31. 31. 31.]\n",
      " [ 0.  6. 11. 16. 21. 21. 25. 25. 25. 31. 36. 36. 36. 36. 36.]\n",
      " [ 0.  6. 11. 16. 21. 21. 25. 25. 25. 31. 36. 36. 36. 36. 36.]\n",
      " [ 0.  6. 11. 16. 21. 21. 25. 25. 25. 31. 36. 41. 41. 41. 41.]\n",
      " [ 0.  6. 11. 16. 21. 21. 25. 25. 25. 31. 36. 41. 46. 46. 46.]]\n",
      "\n",
      "Maior Pontuação:  46.0\n",
      "\n",
      "Alinhamento\n",
      "DRNTAQLL--GTD-T-T\n",
      "DRQTAQ--AAGT-TTIT\n"
     ]
    }
   ],
   "source": [
    "executar_alinhamento_e_printar_valores(v=\"DRNTAQLLGTDTT\", w=\"DRQTAQAAGTTTIT\")"
   ]
  },
  {
   "cell_type": "code",
   "execution_count": 14,
   "id": "e53e3711",
   "metadata": {},
   "outputs": [
    {
     "name": "stdout",
     "output_type": "stream",
     "text": [
      "Alinhamento global par-a-par das strings a seguir:\n",
      "DRQTAKAAGTD\n",
      "ERQLAKAAAGTD\n",
      "----------------------\n",
      "\n",
      "Matriz de posicionamento (equivale ao mapa de posicionamento):\n",
      "[[1. 1. 1. 1. 1. 1. 1. 1. 1. 1. 1. 1. 1.]\n",
      " [0. 2. 1. 1. 1. 1. 1. 1. 1. 1. 1. 1. 2.]\n",
      " [0. 0. 2. 1. 1. 1. 1. 1. 1. 1. 1. 1. 1.]\n",
      " [0. 2. 0. 2. 1. 1. 1. 1. 1. 1. 1. 1. 1.]\n",
      " [0. 0. 0. 0. 1. 2. 1. 2. 2. 2. 1. 2. 1.]\n",
      " [0. 0. 0. 0. 1. 2. 1. 2. 2. 2. 1. 0. 1.]\n",
      " [0. 0. 0. 0. 1. 0. 2. 1. 1. 1. 1. 1. 1.]\n",
      " [0. 0. 0. 0. 1. 2. 0. 2. 2. 2. 1. 1. 1.]\n",
      " [0. 0. 0. 0. 1. 2. 0. 2. 2. 2. 1. 1. 1.]\n",
      " [0. 0. 0. 0. 1. 0. 0. 0. 0. 2. 2. 1. 1.]\n",
      " [0. 0. 0. 0. 1. 0. 0. 0. 0. 2. 0. 2. 1.]\n",
      " [0. 2. 0. 0. 1. 0. 0. 0. 0. 1. 0. 0. 2.]]\n",
      "\n",
      "Mapa de Posicionamento\n",
      "_ _ _ _ _ _ _ _ _ _ _ _ _ \n",
      "| \\ _ _ _ _ _ _ _ _ _ _ \\ \n",
      "| | \\ _ _ _ _ _ _ _ _ _ _ \n",
      "| \\ | \\ _ _ _ _ _ _ _ _ _ \n",
      "| | | | _ \\ _ \\ \\ \\ _ \\ _ \n",
      "| | | | _ \\ _ \\ \\ \\ _ | _ \n",
      "| | | | _ | \\ _ _ _ _ _ _ \n",
      "| | | | _ \\ | \\ \\ \\ _ _ _ \n",
      "| | | | _ \\ | \\ \\ \\ _ _ _ \n",
      "| | | | _ | | | | \\ \\ _ _ \n",
      "| | | | _ | | | | \\ | \\ _ \n",
      "| \\ | | _ | | | | _ | | \\ \n",
      "\n",
      "----------------------\n",
      "Matriz de similaridade:\n",
      "[[ 0.  0.  0.  0.  0.  0.  0.  0.  0.  0.  0.  0.  0.]\n",
      " [ 0.  2.  2.  2.  2.  2.  2.  2.  2.  2.  2.  2.  6.]\n",
      " [ 0.  2.  7.  7.  7.  7.  7.  7.  7.  7.  7.  7.  7.]\n",
      " [ 0.  2.  7. 12. 12. 12. 12. 12. 12. 12. 12. 12. 12.]\n",
      " [ 0.  2.  7. 12. 12. 12. 12. 12. 12. 12. 12. 17. 17.]\n",
      " [ 0.  2.  7. 12. 12. 16. 16. 16. 16. 16. 16. 17. 17.]\n",
      " [ 0.  2.  7. 12. 12. 16. 21. 21. 21. 21. 21. 21. 21.]\n",
      " [ 0.  2.  7. 12. 12. 16. 21. 25. 25. 25. 25. 25. 25.]\n",
      " [ 0.  2.  7. 12. 12. 16. 21. 25. 29. 29. 29. 29. 29.]\n",
      " [ 0.  2.  7. 12. 12. 16. 21. 25. 29. 29. 35. 35. 35.]\n",
      " [ 0.  2.  7. 12. 12. 16. 21. 25. 29. 29. 35. 40. 40.]\n",
      " [ 0.  2.  7. 12. 12. 16. 21. 25. 29. 29. 35. 40. 46.]]\n",
      "\n",
      "Maior Pontuação:  46.0\n",
      "\n",
      "Alinhamento\n",
      "DRQT-AK-AAGTD\n",
      "ERQ-LAKAAAGTD\n"
     ]
    }
   ],
   "source": [
    "executar_alinhamento_e_printar_valores(v=\"DRQTAKAAGTD\", w=\"ERQLAKAAAGTD\")"
   ]
  },
  {
   "cell_type": "markdown",
   "id": "7374747f",
   "metadata": {},
   "source": [
    "Tanto para sua versão recursiva quanto para sua versão iterativa, podemos afirmar que o principal objetivo do *loop* de execução envolve preencher a tabela de similaridade (ou tabela de memoização), logo, a complexidade de tempo e espaço de ambas as versões do algoritmo é $O(|v| \\times |w|)$"
   ]
  }
 ],
 "metadata": {
  "kernelspec": {
   "display_name": "Python 3 (ipykernel)",
   "language": "python",
   "name": "python3"
  },
  "language_info": {
   "codemirror_mode": {
    "name": "ipython",
    "version": 3
   },
   "file_extension": ".py",
   "mimetype": "text/x-python",
   "name": "python",
   "nbconvert_exporter": "python",
   "pygments_lexer": "ipython3",
   "version": "3.9.13"
  }
 },
 "nbformat": 4,
 "nbformat_minor": 5
}
