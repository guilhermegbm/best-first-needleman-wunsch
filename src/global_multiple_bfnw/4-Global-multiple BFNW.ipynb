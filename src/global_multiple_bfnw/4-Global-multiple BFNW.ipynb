{
 "cells": [
  {
   "cell_type": "markdown",
   "id": "ef1e8ac2",
   "metadata": {},
   "source": [
    "## Global-multiple BFNW\n",
    "\n",
    "O algoritmo definido na seção anterior faz o alinhamento global entre duas sequências, porém, dado um conjunto $S = \\{s_1, s_2, ..., s_{k-1}, s_k\\}$ com k *strings*, a mesma ideia pode ser expandida e generalizada para alinhar esse conjunto simultaneamente. Isso pode ser feito ao modificar a estratégia de geração do grafo inicial para que, em vez de ter um aspecto bidimensional fixo, ele possa ser expandido para uma estrutura dinâmica k-dimensional. A partir desse novo grafo com estrutura similar a um tensor, basta executar exatamente a mesma estratégia de priorização, mas agora o caminhamento deve ser feito a partir do nó fonte $(0, 0, ..., 0, 0)_k$ até o nó sumidouro $(|s_1|, |s_2|, ..., |s_{k-1}|, |s_k|)_k$."
   ]
  },
  {
   "cell_type": "code",
   "execution_count": 1,
   "id": "109b4f14",
   "metadata": {},
   "outputs": [],
   "source": [
    "import numpy as np\n",
    "\n",
    "import os\n",
    "import sys\n",
    "module_path = os.path.abspath(os.path.join('..'))\n",
    "if module_path not in sys.path:\n",
    "    sys.path.append(module_path)\n",
    "\n",
    "import utils.constantes as constantes\n",
    "import utils.func_utils as func_utils\n",
    "import utils.maxheap as maxheap"
   ]
  },
  {
   "cell_type": "code",
   "execution_count": 2,
   "id": "04790fec",
   "metadata": {},
   "outputs": [],
   "source": [
    "class NodoAuxiliar:\n",
    "\n",
    "    def __init__(self, posicao, valor_acumulado, direcao):\n",
    "        \"\"\"\n",
    "        posição: A posição desse nodo no tensor n-dimensional.\n",
    "        \n",
    "        valor_acumulado: O valor, ganho ou pontuação acumulada associada a esse nodo\n",
    "        \n",
    "        direcao: Vetor composto por 0's e 1's que indica qual direção foi tomada para se chegar a esse nodo\n",
    "        \"\"\"\n",
    "        self.posicao = posicao\n",
    "        self.valor_acumulado = valor_acumulado\n",
    "        self.direcao = direcao\n",
    "\n",
    "    def __str__(self):\n",
    "        return \"Posição: \" + str(self.posicao) + \", va: \" + str(self.valor_acumulado) + \", dir: \" + str(self.direcao)\n",
    "\n",
    "    def __repr__(self):\n",
    "        return str(self)\n",
    "\n",
    "    def __lt__(self, other):\n",
    "        return self.valor_acumulado < other.valor_acumulado\n",
    "\n",
    "    def __le__(self, other):\n",
    "        return self.valor_acumulado <= other.valor_acumulado\n",
    "\n",
    "    def __gt__(self, other):\n",
    "        return self.valor_acumulado > other.valor_acumulado\n",
    "\n",
    "    def __ge__(self, other):\n",
    "        return self.valor_acumulado >= other.valor_acumulado"
   ]
  },
  {
   "cell_type": "code",
   "execution_count": 3,
   "id": "b5cf1fd2",
   "metadata": {},
   "outputs": [],
   "source": [
    "def gerar_permutacoes_direcoes(num_seqs, aux, direcoes, index):\n",
    "    \"\"\"\n",
    "    Observação IMPORTANTE: Assim como no bfnw original, a ordem nas quais essas permutações\n",
    "    são geradas INFLUENCIAM no caminhamento final, no sentido de que quais direções são\n",
    "    testadas primeiro podem alterar por completo o caminhamento e resultado final\n",
    "    \"\"\"\n",
    "    aux[index] = 0\n",
    "    \n",
    "    if (index == num_seqs-1):\n",
    "        direcoes.append(aux.copy())\n",
    "    else:\n",
    "        gerar_permutacoes_direcoes(num_seqs, aux, direcoes, index+1)\n",
    "    \n",
    "    aux[index] = 1\n",
    "    \n",
    "    if (index == num_seqs-1):\n",
    "        direcoes.append(aux.copy())\n",
    "    else:\n",
    "        gerar_permutacoes_direcoes(num_seqs, aux, direcoes, index+1)\n",
    "    \n",
    "def global_multiple_bfnw(\n",
    "    sequencias,\n",
    "    matriz_pontuacao=constantes.matriz_pontuacao_blosum62,\n",
    "    dicionario_indice_alfabeto=constantes.dicionario_indice_alfabeto_all_amino,\n",
    "    penalidade_indel=constantes.PENALIDADE_INDEL):\n",
    "    \n",
    "    num_seqs = len(sequencias)\n",
    "    tam_seqs = [ len(s) for s in sequencias ]\n",
    "    \n",
    "    mapa_posicionamento = {}\n",
    "    mapa_similaridade = {}\n",
    "    # TODO: Substituir por matriz de n dimensões e ver se dá na mesma\n",
    "    \n",
    "    # Gerando todas as permutações de todas as \"direções\" possíveis para as arestas\n",
    "    # desse problema. Isso varia dependendo da qtde de sequências/dimensões.\n",
    "    direcoes = []\n",
    "    gerar_permutacoes_direcoes(num_seqs, [0] * num_seqs, direcoes, 0)\n",
    "    direcoes.pop(0) # Removendo a permutação [0,0,0,...0], pois não faz sentido inserir gap em todas as seqs\n",
    "    #direcoes = [[1, 0], [0, 1], [1, 1]]\n",
    "    \n",
    "    fonte = NodoAuxiliar([0] * num_seqs, 0, [-np.inf] * num_seqs)\n",
    "    heap = maxheap.MaxHeap()\n",
    "    heap.insert(fonte)\n",
    "    \n",
    "    while not heap.isEmpty():\n",
    "    \n",
    "        # Buscando o melhor vértice ou nó ainda aberto \"k\" (nesse algorítmo, o com maior valor)\n",
    "        k = heap.extractMax()\n",
    "\n",
    "        # Fechando esse nó:\n",
    "        tupla_posicao = tuple(k.posicao)\n",
    "        if (tupla_posicao not in mapa_similaridade) or k.valor_acumulado > mapa_similaridade[tupla_posicao]:\n",
    "            mapa_similaridade[tupla_posicao] = k.valor_acumulado\n",
    "            mapa_posicionamento[tupla_posicao] = k.direcao\n",
    "        else:\n",
    "            continue\n",
    "        \n",
    "        # Verificando se chegou no vértice sumidouro!!!\n",
    "        # TODO: Uma forma de se verificar isso com tradeoff entre tempo e memória (não precisa\n",
    "        # verificar o vetor posicao abaixo, mas exige uma variável auxiliar) seria se compararmos\n",
    "        # a soma de todas as dimensões da posição desse k com sum(tam_seqs)\n",
    "        if k.posicao == tam_seqs:\n",
    "            break\n",
    "        \n",
    "        # Computando os próximos vértices\n",
    "        for direcao in direcoes:\n",
    "            # A nova posição para esse vértice é a posição de k somada à direção dessa iteração\n",
    "            nova_posicao = [0] * num_seqs\n",
    "            posicao_invalida = False\n",
    "            for i in range(0, num_seqs):\n",
    "                nova_posicao[i] = k.posicao[i] + direcao[i]\n",
    "\n",
    "                # Nem todas as novas posições são válidas\n",
    "                if nova_posicao[i] > tam_seqs[i]:\n",
    "                    posicao_invalida = True\n",
    "                    break\n",
    "\n",
    "            if posicao_invalida:\n",
    "                continue\n",
    "\n",
    "            # O novo valor para esse vértice é o valor de k acumulado a todas as combinações de\n",
    "            # matches que possam ter ocorrido (combinação de \"1\"s no vetor de direção) e\n",
    "            # acumulado ainda a todos os indels que foram realizados\n",
    "            novo_valor_acumulado = k.valor_acumulado\n",
    "            for i in range(0, num_seqs):\n",
    "                if direcao[i]:\n",
    "                    # Se i quer fazer match, encontre quem em j também quer fazer match:\n",
    "                    for j in range(i+1, num_seqs):\n",
    "                        if direcao[j]:\n",
    "                            #print(i, \"-\", j, \"   -->   \" , (sequencias[i])[k.posicao[i]], \"-\", (sequencias[j])[k.posicao[j]])\n",
    "                            novo_valor_acumulado += matriz_pontuacao[dicionario_indice_alfabeto[(sequencias[i])[k.posicao[i]]], dicionario_indice_alfabeto[(sequencias[j])[k.posicao[j]]]]\n",
    "                else:\n",
    "                    # Se tem gap em i, aplique a penalidade de indel\n",
    "                    novo_valor_acumulado -= penalidade_indel\n",
    "\n",
    "            heap.insert(NodoAuxiliar(nova_posicao, novo_valor_acumulado, direcao.copy()))\n",
    "\n",
    "    return mapa_posicionamento, mapa_similaridade"
   ]
  },
  {
   "cell_type": "code",
   "execution_count": 4,
   "id": "c0f5c253",
   "metadata": {},
   "outputs": [],
   "source": [
    "def computar_alinhamento(sequencias, mapa_posicionamento):\n",
    "    num_seqs = len(sequencias)\n",
    "    tam_seqs = [ len(s) for s in sequencias ]\n",
    "    \n",
    "    alinhamento = [\"\"] * num_seqs\n",
    "\n",
    "    contadores_seq = tam_seqs.copy()\n",
    "    \n",
    "    all_zeros = [0] * num_seqs\n",
    "\n",
    "    while contadores_seq > all_zeros:\n",
    "        \n",
    "        tupla_contadores_seq = tuple(contadores_seq)\n",
    "        \n",
    "        direcao = mapa_posicionamento[tupla_contadores_seq]\n",
    "        \n",
    "        for (k, d) in enumerate(direcao):\n",
    "            if d == 1:\n",
    "                alinhamento[k] += (sequencias[k])[contadores_seq[k]-1]\n",
    "                contadores_seq[k] -= 1\n",
    "            else:\n",
    "                alinhamento[k] += \"-\"\n",
    "\n",
    "    return [ s[::-1] for s in alinhamento ]"
   ]
  },
  {
   "cell_type": "code",
   "execution_count": 5,
   "id": "9646a77a",
   "metadata": {},
   "outputs": [],
   "source": [
    "def printar_valores(sequencias, mapa_posicionamento, mapa_similaridade):\n",
    "    print(\"Alinhamento global múltiplo das strings a seguir:\")\n",
    "    for s in sequencias:\n",
    "        print(s)\n",
    "    print(\"----------------------\")\n",
    "    \n",
    "    print(\"\\nMaior Pontuação: \", mapa_similaridade[tuple([ len(s) for s in sequencias ])])\n",
    "    \n",
    "    alinhamento = computar_alinhamento(sequencias, mapa_posicionamento)\n",
    "    print(\"\\nAlinhamento\")\n",
    "    for a in alinhamento:\n",
    "        print(a)"
   ]
  },
  {
   "cell_type": "code",
   "execution_count": 6,
   "id": "793e09c5",
   "metadata": {},
   "outputs": [
    {
     "name": "stdout",
     "output_type": "stream",
     "text": [
      "Alinhamento global múltiplo das strings a seguir:\n",
      "ACTA\n",
      "ACTC\n",
      "AACC\n",
      "----------------------\n",
      "\n",
      "Maior Pontuação:  6\n",
      "\n",
      "Alinhamento\n",
      "ACTA\n",
      "ACTC\n",
      "AACC\n"
     ]
    }
   ],
   "source": [
    "matriz_pontuacao_ATGC = np.array([ [1, 0, 0, 0],\n",
    "                                   [0, 1, 0, 0],\n",
    "                                   [0, 0, 1, 0],\n",
    "                                   [0, 0, 0, 1]])\n",
    "\n",
    "dicionario_indice_alfabeto_ATGC = {\n",
    "    \"A\": 0,\n",
    "    \"T\": 1,\n",
    "    \"G\": 2,\n",
    "    \"C\": 3\n",
    "}\n",
    "\n",
    "v = \"ACTA\"\n",
    "w = \"ACTC\"\n",
    "x = \"AACC\"\n",
    "sequencias=[v, w, x]\n",
    "\n",
    "mapa_posicionamento, mapa_similaridade = global_multiple_bfnw(\n",
    "    matriz_pontuacao=matriz_pontuacao_ATGC,\n",
    "    dicionario_indice_alfabeto=dicionario_indice_alfabeto_ATGC,\n",
    "    penalidade_indel=1,\n",
    "    sequencias=sequencias)\n",
    "\n",
    "printar_valores(sequencias, mapa_posicionamento, mapa_similaridade)"
   ]
  },
  {
   "cell_type": "code",
   "execution_count": 7,
   "id": "6f064dcf",
   "metadata": {},
   "outputs": [
    {
     "name": "stdout",
     "output_type": "stream",
     "text": [
      "Alinhamento global múltiplo das strings a seguir:\n",
      "ATCTGAT\n",
      "TGCATA\n",
      "----------------------\n",
      "\n",
      "Maior Pontuação:  3\n",
      "\n",
      "Alinhamento\n",
      "ATC-TGAT\n",
      "TGCAT-A-\n"
     ]
    }
   ],
   "source": [
    "v=\"ATCTGAT\"\n",
    "w=\"TGCATA\"\n",
    "sequencias=[v,w]\n",
    "\n",
    "mapa_posicionamento, mapa_similaridade = global_multiple_bfnw(\n",
    "    matriz_pontuacao=matriz_pontuacao_ATGC,\n",
    "    dicionario_indice_alfabeto=dicionario_indice_alfabeto_ATGC,\n",
    "    penalidade_indel=0,\n",
    "    sequencias=sequencias)\n",
    "\n",
    "printar_valores(sequencias, mapa_posicionamento, mapa_similaridade)"
   ]
  },
  {
   "cell_type": "code",
   "execution_count": 8,
   "id": "6c41aa0b",
   "metadata": {},
   "outputs": [
    {
     "name": "stdout",
     "output_type": "stream",
     "text": [
      "Alinhamento global múltiplo das strings a seguir:\n",
      "AATGCAGTCA\n",
      "ATGCTAGA\n",
      "ATGCTGCTCAGA\n",
      "----------------------\n",
      "\n",
      "Maior Pontuação:  13\n",
      "\n",
      "Alinhamento\n",
      "A----A-TGC--AGTCA\n",
      "ATGCTAGA---------\n",
      "ATGCT-G--CTCAG--A\n"
     ]
    }
   ],
   "source": [
    "v=\"AATGCAGTCA\"\n",
    "w=\"ATGCTAGA\"\n",
    "x=\"ATGCTGCTCAGA\"\n",
    "sequencias=[v,w,x]\n",
    "\n",
    "mapa_posicionamento, mapa_similaridade = global_multiple_bfnw(\n",
    "    matriz_pontuacao=matriz_pontuacao_ATGC,\n",
    "    dicionario_indice_alfabeto=dicionario_indice_alfabeto_ATGC,\n",
    "    penalidade_indel=0,\n",
    "    sequencias=sequencias)\n",
    "\n",
    "printar_valores(sequencias, mapa_posicionamento, mapa_similaridade)"
   ]
  },
  {
   "cell_type": "markdown",
   "id": "9ee5a80b",
   "metadata": {},
   "source": [
    "### Teste final"
   ]
  },
  {
   "cell_type": "code",
   "execution_count": 9,
   "id": "bd723d98",
   "metadata": {},
   "outputs": [
    {
     "name": "stdout",
     "output_type": "stream",
     "text": [
      "Alinhamento global múltiplo das strings a seguir:\n",
      "PDQSYNWTQGDEVTEY\n",
      "DQSYNWAQGDEVDEY\n",
      "PDQSYNQGDEVDEF\n",
      "----------------------\n",
      "\n",
      "Maior Pontuação:  194\n",
      "\n",
      "Alinhamento\n",
      "PDQSYNWTQGDEV---TEY\n",
      "-DQSYNWAQGDEVDEY---\n",
      "PDQSYN--QGDEVDEF---\n"
     ]
    }
   ],
   "source": [
    "v=\"PDQSYNWTQGDEVTEY\"\n",
    "w=\"DQSYNWAQGDEVDEY\"\n",
    "x=\"PDQSYNQGDEVDEF\"\n",
    "sequencias=[v,w,x]\n",
    "\n",
    "mapa_posicionamento, mapa_similaridade = global_multiple_bfnw(sequencias=sequencias)\n",
    "\n",
    "printar_valores(sequencias, mapa_posicionamento, mapa_similaridade)"
   ]
  },
  {
   "cell_type": "code",
   "execution_count": 10,
   "id": "0017d87b",
   "metadata": {},
   "outputs": [
    {
     "data": {
      "text/plain": [
       "'CQWKSKVKCLSPIANGVLKARPFECWVYQC'"
      ]
     },
     "execution_count": 10,
     "metadata": {},
     "output_type": "execute_result"
    }
   ],
   "source": [
    "string_teste = func_utils.gerar_string_aleatoria(30, constantes.dicionario_indice_alfabeto_all_amino)\n",
    "string_teste"
   ]
  },
  {
   "cell_type": "code",
   "execution_count": 11,
   "id": "dae16e77",
   "metadata": {},
   "outputs": [
    {
     "data": {
      "text/plain": [
       "['CQWKSKVKCLSPIANGVLKARPFECWVYQC',\n",
       " 'CQWKSKVKCGSPITTGVLKARPFVCWMYQC',\n",
       " 'CQWQSKVKCFSPEANGVAKARPIECWVYQC',\n",
       " 'CQWKSKVHCFEPHANGVLKARVFECWNYQC',\n",
       " 'CVWKSKMKCLSNIANGVLKARPIEAWVYYC']"
      ]
     },
     "execution_count": 11,
     "metadata": {},
     "output_type": "execute_result"
    }
   ],
   "source": [
    "sequencias_teste = [string_teste] + [func_utils.mutar_string(string_teste, constantes.dicionario_indice_alfabeto_all_amino, 20) for i in range(4)]\n",
    "sequencias_teste"
   ]
  },
  {
   "cell_type": "code",
   "execution_count": 12,
   "id": "2a8324c7",
   "metadata": {},
   "outputs": [
    {
     "name": "stdout",
     "output_type": "stream",
     "text": [
      "Alinhamento global múltiplo das strings a seguir:\n",
      "CQWKSKVKCLSPIANGVLKARPFECWVYQC\n",
      "CQWKSKVKCGSPITTGVLKARPFVCWMYQC\n",
      "CQWQSKVKCFSPEANGVAKARPIECWVYQC\n",
      "CQWKSKVHCFEPHANGVLKARVFECWNYQC\n",
      "CVWKSKMKCLSNIANGVLKARPIEAWVYYC\n",
      "----------------------\n",
      "\n",
      "Maior Pontuação:  564\n",
      "\n",
      "Alinhamento\n",
      "CQWKSKVKC----L--S-----PI-AN----GVLKARP-F-E---C-WVYQC--------------------\n",
      "CQWKSKVKC----------G-SPI----------------------------TTGVLKAR-PF-VCW-MYQC\n",
      "CQWQSKVKCF-S--PEAN-GVA--KARPI-----E---CWV--YQC--------------------------\n",
      "CQWKSKV----------HC----FE--P--H----A-----------------NGVLKARV-FE-CWN-YQC\n",
      "C-----V--WKSKM-K--C-LS----N-IANGVLKARP--IEAW--VY-Y-C--------------------\n"
     ]
    }
   ],
   "source": [
    "mapa_posicionamento, mapa_similaridade = global_multiple_bfnw(sequencias=sequencias_teste)\n",
    "\n",
    "printar_valores(sequencias_teste, mapa_posicionamento, mapa_similaridade)"
   ]
  }
 ],
 "metadata": {
  "kernelspec": {
   "display_name": "Python 3 (ipykernel)",
   "language": "python",
   "name": "python3"
  },
  "language_info": {
   "codemirror_mode": {
    "name": "ipython",
    "version": 3
   },
   "file_extension": ".py",
   "mimetype": "text/x-python",
   "name": "python",
   "nbconvert_exporter": "python",
   "pygments_lexer": "ipython3",
   "version": "3.9.13"
  }
 },
 "nbformat": 4,
 "nbformat_minor": 5
}
